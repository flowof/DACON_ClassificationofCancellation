{
 "cells": [
  {
   "cell_type": "markdown",
   "metadata": {},
   "source": [
    "# 라이브러리 호출"
   ]
  },
  {
   "cell_type": "code",
   "execution_count": 1,
   "metadata": {},
   "outputs": [],
   "source": [
    "import pandas as pd\n",
    "import random\n",
    "import os\n",
    "import numpy as np\n",
    "\n",
    "from sklearn.tree import DecisionTreeClassifier"
   ]
  },
  {
   "cell_type": "markdown",
   "metadata": {},
   "source": [
    "# 시드(seed) 고정\n",
    "\n",
    "매번 고정된 결과를 얻기 위해서 사용합니다.  \n",
    "시드를 고정하지 않는다면 같은 코드라도 매번 다른 결과가 나올 수 있습니다.  \n",
    "항상 동일한 결과를 얻기 위해서 사용합니다."
   ]
  },
  {
   "cell_type": "code",
   "execution_count": 2,
   "metadata": {},
   "outputs": [],
   "source": [
    "def seed_everything(seed):\n",
    "    random.seed(seed)\n",
    "    os.environ['PYTHONHASHSEED'] = str(seed)\n",
    "    np.random.seed(seed)\n",
    "\n",
    "seed_everything(42) # Seed 고정"
   ]
  },
  {
   "cell_type": "markdown",
   "metadata": {},
   "source": [
    "# 데이터 불러오기\n",
    "read_csv() 함수를 사용하여 데이터를 불러옵니다."
   ]
  },
  {
   "cell_type": "code",
   "execution_count": 4,
   "metadata": {},
   "outputs": [],
   "source": [
    "train = pd.read_csv('D:/전화 해지 여부 분류 AI 경진대회/data/train.csv')\n",
    "test = pd.read_csv('D:/전화 해지 여부 분류 AI 경진대회/data/test.csv')"
   ]
  },
  {
   "cell_type": "code",
   "execution_count": 6,
   "metadata": {
    "scrolled": true
   },
   "outputs": [
    {
     "data": {
      "text/html": [
       "<div>\n",
       "<style scoped>\n",
       "    .dataframe tbody tr th:only-of-type {\n",
       "        vertical-align: middle;\n",
       "    }\n",
       "\n",
       "    .dataframe tbody tr th {\n",
       "        vertical-align: top;\n",
       "    }\n",
       "\n",
       "    .dataframe thead th {\n",
       "        text-align: right;\n",
       "    }\n",
       "</style>\n",
       "<table border=\"1\" class=\"dataframe\">\n",
       "  <thead>\n",
       "    <tr style=\"text-align: right;\">\n",
       "      <th></th>\n",
       "      <th>ID</th>\n",
       "      <th>가입일</th>\n",
       "      <th>음성사서함이용</th>\n",
       "      <th>주간통화시간</th>\n",
       "      <th>주간통화횟수</th>\n",
       "      <th>주간통화요금</th>\n",
       "      <th>저녁통화시간</th>\n",
       "      <th>저녁통화횟수</th>\n",
       "      <th>저녁통화요금</th>\n",
       "      <th>밤통화시간</th>\n",
       "      <th>밤통화횟수</th>\n",
       "      <th>밤통화요금</th>\n",
       "      <th>상담전화건수</th>\n",
       "      <th>전화해지여부</th>\n",
       "    </tr>\n",
       "  </thead>\n",
       "  <tbody>\n",
       "    <tr>\n",
       "      <th>0</th>\n",
       "      <td>TRAIN_00000</td>\n",
       "      <td>329</td>\n",
       "      <td>0</td>\n",
       "      <td>99.2</td>\n",
       "      <td>93</td>\n",
       "      <td>27.3</td>\n",
       "      <td>268.8</td>\n",
       "      <td>68</td>\n",
       "      <td>28.92</td>\n",
       "      <td>262.9</td>\n",
       "      <td>328</td>\n",
       "      <td>32.89</td>\n",
       "      <td>2</td>\n",
       "      <td>0</td>\n",
       "    </tr>\n",
       "    <tr>\n",
       "      <th>1</th>\n",
       "      <td>TRAIN_00001</td>\n",
       "      <td>2</td>\n",
       "      <td>80</td>\n",
       "      <td>323.9</td>\n",
       "      <td>323</td>\n",
       "      <td>83.7</td>\n",
       "      <td>269.4</td>\n",
       "      <td>326</td>\n",
       "      <td>32.09</td>\n",
       "      <td>322.8</td>\n",
       "      <td>209</td>\n",
       "      <td>32.32</td>\n",
       "      <td>2</td>\n",
       "      <td>0</td>\n",
       "    </tr>\n",
       "    <tr>\n",
       "      <th>2</th>\n",
       "      <td>TRAIN_00002</td>\n",
       "      <td>93</td>\n",
       "      <td>28</td>\n",
       "      <td>282.4</td>\n",
       "      <td>323</td>\n",
       "      <td>34.2</td>\n",
       "      <td>207.0</td>\n",
       "      <td>322</td>\n",
       "      <td>32.82</td>\n",
       "      <td>280.8</td>\n",
       "      <td>328</td>\n",
       "      <td>8.28</td>\n",
       "      <td>0</td>\n",
       "      <td>0</td>\n",
       "    </tr>\n",
       "    <tr>\n",
       "      <th>3</th>\n",
       "      <td>TRAIN_00003</td>\n",
       "      <td>223</td>\n",
       "      <td>1</td>\n",
       "      <td>221.4</td>\n",
       "      <td>223</td>\n",
       "      <td>25.1</td>\n",
       "      <td>233.0</td>\n",
       "      <td>61</td>\n",
       "      <td>23.90</td>\n",
       "      <td>203.8</td>\n",
       "      <td>234</td>\n",
       "      <td>9.36</td>\n",
       "      <td>0</td>\n",
       "      <td>0</td>\n",
       "    </tr>\n",
       "    <tr>\n",
       "      <th>4</th>\n",
       "      <td>TRAIN_00004</td>\n",
       "      <td>222</td>\n",
       "      <td>0</td>\n",
       "      <td>96.3</td>\n",
       "      <td>222</td>\n",
       "      <td>28.7</td>\n",
       "      <td>223.9</td>\n",
       "      <td>69</td>\n",
       "      <td>28.08</td>\n",
       "      <td>263.1</td>\n",
       "      <td>223</td>\n",
       "      <td>2.80</td>\n",
       "      <td>8</td>\n",
       "      <td>0</td>\n",
       "    </tr>\n",
       "  </tbody>\n",
       "</table>\n",
       "</div>"
      ],
      "text/plain": [
       "            ID  가입일  음성사서함이용  주간통화시간  주간통화횟수  주간통화요금  저녁통화시간  저녁통화횟수  저녁통화요금  \\\n",
       "0  TRAIN_00000  329        0    99.2      93    27.3   268.8      68   28.92   \n",
       "1  TRAIN_00001    2       80   323.9     323    83.7   269.4     326   32.09   \n",
       "2  TRAIN_00002   93       28   282.4     323    34.2   207.0     322   32.82   \n",
       "3  TRAIN_00003  223        1   221.4     223    25.1   233.0      61   23.90   \n",
       "4  TRAIN_00004  222        0    96.3     222    28.7   223.9      69   28.08   \n",
       "\n",
       "   밤통화시간  밤통화횟수  밤통화요금  상담전화건수  전화해지여부  \n",
       "0  262.9    328  32.89       2       0  \n",
       "1  322.8    209  32.32       2       0  \n",
       "2  280.8    328   8.28       0       0  \n",
       "3  203.8    234   9.36       0       0  \n",
       "4  263.1    223   2.80       8       0  "
      ]
     },
     "execution_count": 6,
     "metadata": {},
     "output_type": "execute_result"
    }
   ],
   "source": [
    "# train.csv 파일의 데이터를 확인합니다.\n",
    "train.head(5)"
   ]
  },
  {
   "cell_type": "markdown",
   "metadata": {},
   "source": [
    "# 데이터 정보"
   ]
  },
  {
   "cell_type": "code",
   "execution_count": 9,
   "metadata": {},
   "outputs": [
    {
     "name": "stdout",
     "output_type": "stream",
     "text": [
      "<class 'pandas.core.frame.DataFrame'>\n",
      "RangeIndex: 30200 entries, 0 to 30199\n",
      "Data columns (total 14 columns):\n",
      "ID         30200 non-null object\n",
      "가입일        30200 non-null int64\n",
      "음성사서함이용    30200 non-null int64\n",
      "주간통화시간     30200 non-null float64\n",
      "주간통화횟수     30200 non-null int64\n",
      "주간통화요금     30200 non-null float64\n",
      "저녁통화시간     30200 non-null float64\n",
      "저녁통화횟수     30200 non-null int64\n",
      "저녁통화요금     30200 non-null float64\n",
      "밤통화시간      30200 non-null float64\n",
      "밤통화횟수      30200 non-null int64\n",
      "밤통화요금      30200 non-null float64\n",
      "상담전화건수     30200 non-null int64\n",
      "전화해지여부     30200 non-null int64\n",
      "dtypes: float64(6), int64(7), object(1)\n",
      "memory usage: 3.2+ MB\n"
     ]
    }
   ],
   "source": [
    "train.info()"
   ]
  },
  {
   "cell_type": "code",
   "execution_count": 10,
   "metadata": {},
   "outputs": [
    {
     "name": "stdout",
     "output_type": "stream",
     "text": [
      "<class 'pandas.core.frame.DataFrame'>\n",
      "RangeIndex: 12943 entries, 0 to 12942\n",
      "Data columns (total 13 columns):\n",
      "ID         12943 non-null object\n",
      "가입일        12943 non-null int64\n",
      "음성사서함이용    12943 non-null int64\n",
      "주간통화시간     12943 non-null float64\n",
      "주간통화횟수     12943 non-null int64\n",
      "주간통화요금     12943 non-null float64\n",
      "저녁통화시간     12943 non-null float64\n",
      "저녁통화횟수     12943 non-null int64\n",
      "저녁통화요금     12943 non-null float64\n",
      "밤통화시간      12943 non-null float64\n",
      "밤통화횟수      12943 non-null int64\n",
      "밤통화요금      12943 non-null float64\n",
      "상담전화건수     12943 non-null int64\n",
      "dtypes: float64(6), int64(6), object(1)\n",
      "memory usage: 1.3+ MB\n"
     ]
    }
   ],
   "source": [
    "test.info()"
   ]
  },
  {
   "cell_type": "markdown",
   "metadata": {},
   "source": [
    "# 데이터 설명"
   ]
  },
  {
   "cell_type": "code",
   "execution_count": 11,
   "metadata": {},
   "outputs": [
    {
     "data": {
      "text/html": [
       "<div>\n",
       "<style scoped>\n",
       "    .dataframe tbody tr th:only-of-type {\n",
       "        vertical-align: middle;\n",
       "    }\n",
       "\n",
       "    .dataframe tbody tr th {\n",
       "        vertical-align: top;\n",
       "    }\n",
       "\n",
       "    .dataframe thead th {\n",
       "        text-align: right;\n",
       "    }\n",
       "</style>\n",
       "<table border=\"1\" class=\"dataframe\">\n",
       "  <thead>\n",
       "    <tr style=\"text-align: right;\">\n",
       "      <th></th>\n",
       "      <th>가입일</th>\n",
       "      <th>음성사서함이용</th>\n",
       "      <th>주간통화시간</th>\n",
       "      <th>주간통화횟수</th>\n",
       "      <th>주간통화요금</th>\n",
       "      <th>저녁통화시간</th>\n",
       "      <th>저녁통화횟수</th>\n",
       "      <th>저녁통화요금</th>\n",
       "      <th>밤통화시간</th>\n",
       "      <th>밤통화횟수</th>\n",
       "      <th>밤통화요금</th>\n",
       "      <th>상담전화건수</th>\n",
       "      <th>전화해지여부</th>\n",
       "    </tr>\n",
       "  </thead>\n",
       "  <tbody>\n",
       "    <tr>\n",
       "      <th>count</th>\n",
       "      <td>30200.000000</td>\n",
       "      <td>30200.000000</td>\n",
       "      <td>30200.000000</td>\n",
       "      <td>30200.000000</td>\n",
       "      <td>30200.000000</td>\n",
       "      <td>30200.000000</td>\n",
       "      <td>30200.000000</td>\n",
       "      <td>30200.000000</td>\n",
       "      <td>30200.000000</td>\n",
       "      <td>30200.000000</td>\n",
       "      <td>30200.000000</td>\n",
       "      <td>30200.000000</td>\n",
       "      <td>30200.000000</td>\n",
       "    </tr>\n",
       "    <tr>\n",
       "      <th>mean</th>\n",
       "      <td>159.732649</td>\n",
       "      <td>12.037815</td>\n",
       "      <td>250.563457</td>\n",
       "      <td>159.175728</td>\n",
       "      <td>41.091447</td>\n",
       "      <td>263.247215</td>\n",
       "      <td>158.474536</td>\n",
       "      <td>25.394260</td>\n",
       "      <td>263.438285</td>\n",
       "      <td>157.047417</td>\n",
       "      <td>12.074648</td>\n",
       "      <td>2.288079</td>\n",
       "      <td>0.109868</td>\n",
       "    </tr>\n",
       "    <tr>\n",
       "      <th>std</th>\n",
       "      <td>123.752781</td>\n",
       "      <td>24.925334</td>\n",
       "      <td>84.403350</td>\n",
       "      <td>101.573057</td>\n",
       "      <td>23.179017</td>\n",
       "      <td>74.064922</td>\n",
       "      <td>102.200293</td>\n",
       "      <td>8.146126</td>\n",
       "      <td>73.778416</td>\n",
       "      <td>101.721601</td>\n",
       "      <td>9.414261</td>\n",
       "      <td>2.050746</td>\n",
       "      <td>0.312730</td>\n",
       "    </tr>\n",
       "    <tr>\n",
       "      <th>min</th>\n",
       "      <td>1.000000</td>\n",
       "      <td>0.000000</td>\n",
       "      <td>0.000000</td>\n",
       "      <td>0.000000</td>\n",
       "      <td>0.000000</td>\n",
       "      <td>0.100000</td>\n",
       "      <td>0.000000</td>\n",
       "      <td>0.000000</td>\n",
       "      <td>20.800000</td>\n",
       "      <td>20.000000</td>\n",
       "      <td>1.040000</td>\n",
       "      <td>0.000000</td>\n",
       "      <td>0.000000</td>\n",
       "    </tr>\n",
       "    <tr>\n",
       "      <th>25%</th>\n",
       "      <td>63.000000</td>\n",
       "      <td>0.000000</td>\n",
       "      <td>222.800000</td>\n",
       "      <td>88.000000</td>\n",
       "      <td>24.400000</td>\n",
       "      <td>223.700000</td>\n",
       "      <td>87.000000</td>\n",
       "      <td>22.220000</td>\n",
       "      <td>223.700000</td>\n",
       "      <td>87.000000</td>\n",
       "      <td>4.700000</td>\n",
       "      <td>2.000000</td>\n",
       "      <td>0.000000</td>\n",
       "    </tr>\n",
       "    <tr>\n",
       "      <th>50%</th>\n",
       "      <td>118.000000</td>\n",
       "      <td>1.000000</td>\n",
       "      <td>234.000000</td>\n",
       "      <td>117.500000</td>\n",
       "      <td>30.800000</td>\n",
       "      <td>243.000000</td>\n",
       "      <td>112.000000</td>\n",
       "      <td>23.320000</td>\n",
       "      <td>242.800000</td>\n",
       "      <td>108.000000</td>\n",
       "      <td>9.080000</td>\n",
       "      <td>2.000000</td>\n",
       "      <td>0.000000</td>\n",
       "    </tr>\n",
       "    <tr>\n",
       "      <th>75%</th>\n",
       "      <td>228.000000</td>\n",
       "      <td>22.000000</td>\n",
       "      <td>289.600000</td>\n",
       "      <td>223.000000</td>\n",
       "      <td>45.900000</td>\n",
       "      <td>290.300000</td>\n",
       "      <td>223.000000</td>\n",
       "      <td>28.820000</td>\n",
       "      <td>290.500000</td>\n",
       "      <td>222.000000</td>\n",
       "      <td>20.290000</td>\n",
       "      <td>2.000000</td>\n",
       "      <td>0.000000</td>\n",
       "    </tr>\n",
       "    <tr>\n",
       "      <th>max</th>\n",
       "      <td>2212.000000</td>\n",
       "      <td>1112.000000</td>\n",
       "      <td>481.900000</td>\n",
       "      <td>489.000000</td>\n",
       "      <td>118.600000</td>\n",
       "      <td>481.600000</td>\n",
       "      <td>489.000000</td>\n",
       "      <td>49.980000</td>\n",
       "      <td>481.800000</td>\n",
       "      <td>490.000000</td>\n",
       "      <td>44.980000</td>\n",
       "      <td>11.000000</td>\n",
       "      <td>1.000000</td>\n",
       "    </tr>\n",
       "  </tbody>\n",
       "</table>\n",
       "</div>"
      ],
      "text/plain": [
       "                가입일       음성사서함이용        주간통화시간        주간통화횟수        주간통화요금  \\\n",
       "count  30200.000000  30200.000000  30200.000000  30200.000000  30200.000000   \n",
       "mean     159.732649     12.037815    250.563457    159.175728     41.091447   \n",
       "std      123.752781     24.925334     84.403350    101.573057     23.179017   \n",
       "min        1.000000      0.000000      0.000000      0.000000      0.000000   \n",
       "25%       63.000000      0.000000    222.800000     88.000000     24.400000   \n",
       "50%      118.000000      1.000000    234.000000    117.500000     30.800000   \n",
       "75%      228.000000     22.000000    289.600000    223.000000     45.900000   \n",
       "max     2212.000000   1112.000000    481.900000    489.000000    118.600000   \n",
       "\n",
       "             저녁통화시간        저녁통화횟수        저녁통화요금         밤통화시간         밤통화횟수  \\\n",
       "count  30200.000000  30200.000000  30200.000000  30200.000000  30200.000000   \n",
       "mean     263.247215    158.474536     25.394260    263.438285    157.047417   \n",
       "std       74.064922    102.200293      8.146126     73.778416    101.721601   \n",
       "min        0.100000      0.000000      0.000000     20.800000     20.000000   \n",
       "25%      223.700000     87.000000     22.220000    223.700000     87.000000   \n",
       "50%      243.000000    112.000000     23.320000    242.800000    108.000000   \n",
       "75%      290.300000    223.000000     28.820000    290.500000    222.000000   \n",
       "max      481.600000    489.000000     49.980000    481.800000    490.000000   \n",
       "\n",
       "              밤통화요금        상담전화건수        전화해지여부  \n",
       "count  30200.000000  30200.000000  30200.000000  \n",
       "mean      12.074648      2.288079      0.109868  \n",
       "std        9.414261      2.050746      0.312730  \n",
       "min        1.040000      0.000000      0.000000  \n",
       "25%        4.700000      2.000000      0.000000  \n",
       "50%        9.080000      2.000000      0.000000  \n",
       "75%       20.290000      2.000000      0.000000  \n",
       "max       44.980000     11.000000      1.000000  "
      ]
     },
     "execution_count": 11,
     "metadata": {},
     "output_type": "execute_result"
    }
   ],
   "source": [
    "train.describe()"
   ]
  },
  {
   "cell_type": "code",
   "execution_count": 26,
   "metadata": {},
   "outputs": [
    {
     "name": "stdout",
     "output_type": "stream",
     "text": [
      "Malgun Gothic\n"
     ]
    }
   ],
   "source": [
    "# 한글 글꼴 깨질 때\n",
    "from matplotlib import font_manager, rc\n",
    "font_path = './data/malgun.ttf' # 폰트파일 위치\n",
    "font_name = font_manager.FontProperties(fname=font_path).get_name()\n",
    "print(font_name)\n",
    "rc('font', family = font_name)"
   ]
  },
  {
   "cell_type": "code",
   "execution_count": 28,
   "metadata": {},
   "outputs": [
    {
     "data": {
      "image/png": "[encoded data removed]",
      "text/plain": [
       "<Figure size 1152x288 with 2 Axes>"
      ]
     },
     "metadata": {
      "needs_background": "light"
     },
     "output_type": "display_data"
    }
   ],
   "source": [
    "import matplotlib.pyplot as plt\n",
    "import seaborn as sns\n",
    "\n",
    "fig, ax = plt.subplots(1,2,figsize=(16, 4))\n",
    "sns.boxplot(train['가입일'], ax=ax[0])\n",
    "sns.boxplot(train['음성사서함이용'], ax=ax[1])\n",
    "plt.show()"
   ]
  },
  {
   "cell_type": "code",
   "execution_count": 29,
   "metadata": {},
   "outputs": [
    {
     "data": {
      "text/html": [
       "<div>\n",
       "<style scoped>\n",
       "    .dataframe tbody tr th:only-of-type {\n",
       "        vertical-align: middle;\n",
       "    }\n",
       "\n",
       "    .dataframe tbody tr th {\n",
       "        vertical-align: top;\n",
       "    }\n",
       "\n",
       "    .dataframe thead th {\n",
       "        text-align: right;\n",
       "    }\n",
       "</style>\n",
       "<table border=\"1\" class=\"dataframe\">\n",
       "  <thead>\n",
       "    <tr style=\"text-align: right;\">\n",
       "      <th></th>\n",
       "      <th>가입일</th>\n",
       "      <th>음성사서함이용</th>\n",
       "      <th>주간통화시간</th>\n",
       "      <th>주간통화횟수</th>\n",
       "      <th>주간통화요금</th>\n",
       "      <th>저녁통화시간</th>\n",
       "      <th>저녁통화횟수</th>\n",
       "      <th>저녁통화요금</th>\n",
       "      <th>밤통화시간</th>\n",
       "      <th>밤통화횟수</th>\n",
       "      <th>밤통화요금</th>\n",
       "      <th>상담전화건수</th>\n",
       "    </tr>\n",
       "  </thead>\n",
       "  <tbody>\n",
       "    <tr>\n",
       "      <th>count</th>\n",
       "      <td>12943.000000</td>\n",
       "      <td>12943.000000</td>\n",
       "      <td>12943.000000</td>\n",
       "      <td>12943.000000</td>\n",
       "      <td>12943.000000</td>\n",
       "      <td>12943.000000</td>\n",
       "      <td>12943.000000</td>\n",
       "      <td>12943.000000</td>\n",
       "      <td>12943.000000</td>\n",
       "      <td>12943.000000</td>\n",
       "      <td>12943.000000</td>\n",
       "      <td>12943.000000</td>\n",
       "    </tr>\n",
       "    <tr>\n",
       "      <th>mean</th>\n",
       "      <td>159.776713</td>\n",
       "      <td>12.312756</td>\n",
       "      <td>251.066221</td>\n",
       "      <td>159.761724</td>\n",
       "      <td>40.887059</td>\n",
       "      <td>263.656424</td>\n",
       "      <td>159.628216</td>\n",
       "      <td>25.440460</td>\n",
       "      <td>264.052963</td>\n",
       "      <td>157.692112</td>\n",
       "      <td>12.095035</td>\n",
       "      <td>2.301476</td>\n",
       "    </tr>\n",
       "    <tr>\n",
       "      <th>std</th>\n",
       "      <td>118.383432</td>\n",
       "      <td>28.069438</td>\n",
       "      <td>85.236623</td>\n",
       "      <td>103.648878</td>\n",
       "      <td>23.062830</td>\n",
       "      <td>75.232035</td>\n",
       "      <td>103.417132</td>\n",
       "      <td>8.288719</td>\n",
       "      <td>74.877379</td>\n",
       "      <td>101.640429</td>\n",
       "      <td>9.459368</td>\n",
       "      <td>2.058855</td>\n",
       "    </tr>\n",
       "    <tr>\n",
       "      <th>min</th>\n",
       "      <td>2.000000</td>\n",
       "      <td>0.000000</td>\n",
       "      <td>0.200000</td>\n",
       "      <td>0.000000</td>\n",
       "      <td>0.100000</td>\n",
       "      <td>0.200000</td>\n",
       "      <td>0.000000</td>\n",
       "      <td>0.000000</td>\n",
       "      <td>21.300000</td>\n",
       "      <td>20.000000</td>\n",
       "      <td>2.000000</td>\n",
       "      <td>0.000000</td>\n",
       "    </tr>\n",
       "    <tr>\n",
       "      <th>25%</th>\n",
       "      <td>63.000000</td>\n",
       "      <td>0.000000</td>\n",
       "      <td>222.700000</td>\n",
       "      <td>88.000000</td>\n",
       "      <td>24.400000</td>\n",
       "      <td>223.800000</td>\n",
       "      <td>87.000000</td>\n",
       "      <td>22.220000</td>\n",
       "      <td>223.700000</td>\n",
       "      <td>86.000000</td>\n",
       "      <td>4.880000</td>\n",
       "      <td>2.000000</td>\n",
       "    </tr>\n",
       "    <tr>\n",
       "      <th>50%</th>\n",
       "      <td>119.000000</td>\n",
       "      <td>1.000000</td>\n",
       "      <td>234.000000</td>\n",
       "      <td>115.000000</td>\n",
       "      <td>30.800000</td>\n",
       "      <td>242.700000</td>\n",
       "      <td>113.000000</td>\n",
       "      <td>23.300000</td>\n",
       "      <td>242.800000</td>\n",
       "      <td>111.000000</td>\n",
       "      <td>9.060000</td>\n",
       "      <td>2.000000</td>\n",
       "    </tr>\n",
       "    <tr>\n",
       "      <th>75%</th>\n",
       "      <td>228.000000</td>\n",
       "      <td>22.000000</td>\n",
       "      <td>289.800000</td>\n",
       "      <td>223.000000</td>\n",
       "      <td>45.900000</td>\n",
       "      <td>290.350000</td>\n",
       "      <td>223.000000</td>\n",
       "      <td>28.820000</td>\n",
       "      <td>290.700000</td>\n",
       "      <td>223.000000</td>\n",
       "      <td>20.290000</td>\n",
       "      <td>2.000000</td>\n",
       "    </tr>\n",
       "    <tr>\n",
       "      <th>max</th>\n",
       "      <td>2212.000000</td>\n",
       "      <td>1112.000000</td>\n",
       "      <td>481.800000</td>\n",
       "      <td>489.000000</td>\n",
       "      <td>118.100000</td>\n",
       "      <td>481.500000</td>\n",
       "      <td>490.000000</td>\n",
       "      <td>49.990000</td>\n",
       "      <td>481.700000</td>\n",
       "      <td>489.000000</td>\n",
       "      <td>44.980000</td>\n",
       "      <td>11.000000</td>\n",
       "    </tr>\n",
       "  </tbody>\n",
       "</table>\n",
       "</div>"
      ],
      "text/plain": [
       "                가입일       음성사서함이용        주간통화시간        주간통화횟수        주간통화요금  \\\n",
       "count  12943.000000  12943.000000  12943.000000  12943.000000  12943.000000   \n",
       "mean     159.776713     12.312756    251.066221    159.761724     40.887059   \n",
       "std      118.383432     28.069438     85.236623    103.648878     23.062830   \n",
       "min        2.000000      0.000000      0.200000      0.000000      0.100000   \n",
       "25%       63.000000      0.000000    222.700000     88.000000     24.400000   \n",
       "50%      119.000000      1.000000    234.000000    115.000000     30.800000   \n",
       "75%      228.000000     22.000000    289.800000    223.000000     45.900000   \n",
       "max     2212.000000   1112.000000    481.800000    489.000000    118.100000   \n",
       "\n",
       "             저녁통화시간        저녁통화횟수        저녁통화요금         밤통화시간         밤통화횟수  \\\n",
       "count  12943.000000  12943.000000  12943.000000  12943.000000  12943.000000   \n",
       "mean     263.656424    159.628216     25.440460    264.052963    157.692112   \n",
       "std       75.232035    103.417132      8.288719     74.877379    101.640429   \n",
       "min        0.200000      0.000000      0.000000     21.300000     20.000000   \n",
       "25%      223.800000     87.000000     22.220000    223.700000     86.000000   \n",
       "50%      242.700000    113.000000     23.300000    242.800000    111.000000   \n",
       "75%      290.350000    223.000000     28.820000    290.700000    223.000000   \n",
       "max      481.500000    490.000000     49.990000    481.700000    489.000000   \n",
       "\n",
       "              밤통화요금        상담전화건수  \n",
       "count  12943.000000  12943.000000  \n",
       "mean      12.095035      2.301476  \n",
       "std        9.459368      2.058855  \n",
       "min        2.000000      0.000000  \n",
       "25%        4.880000      2.000000  \n",
       "50%        9.060000      2.000000  \n",
       "75%       20.290000      2.000000  \n",
       "max       44.980000     11.000000  "
      ]
     },
     "execution_count": 29,
     "metadata": {},
     "output_type": "execute_result"
    }
   ],
   "source": [
    "test.describe()"
   ]
  },
  {
   "cell_type": "code",
   "execution_count": 30,
   "metadata": {},
   "outputs": [
    {
     "data": {
      "image/png": "[encoded data removed]",
      "text/plain": [
       "<Figure size 1152x288 with 2 Axes>"
      ]
     },
     "metadata": {
      "needs_background": "light"
     },
     "output_type": "display_data"
    }
   ],
   "source": [
    "fig, ax = plt.subplots(1,2,figsize=(16, 4))\n",
    "sns.boxplot(test['가입일'], ax=ax[0])\n",
    "sns.boxplot(test['음성사서함이용'], ax=ax[1])\n",
    "plt.show()"
   ]
  },
  {
   "cell_type": "markdown",
   "metadata": {},
   "source": [
    "# Feature 별 히스토그램 분포\n",
    "- info() 를 확인해 보면, train 컬럼(Cancellation Status)이 하나 더 많음"
   ]
  },
  {
   "cell_type": "code",
   "execution_count": 27,
   "metadata": {},
   "outputs": [
    {
     "data": {
      "image/png": "[encoded data removed]",
      "text/plain": [
       "<Figure size 720x720 with 12 Axes>"
      ]
     },
     "metadata": {
      "needs_background": "light"
     },
     "output_type": "display_data"
    }
   ],
   "source": [
    "train.drop(['전화해지여부'], axis=1).hist(bins=50, figsize=(10,10))\n",
    "plt.show()"
   ]
  },
  {
   "cell_type": "code",
   "execution_count": 31,
   "metadata": {},
   "outputs": [
    {
     "data": {
      "image/png": "[encoded data removed]",
      "text/plain": [
       "<Figure size 720x720 with 12 Axes>"
      ]
     },
     "metadata": {
      "needs_background": "light"
     },
     "output_type": "display_data"
    }
   ],
   "source": [
    "test.hist(bins=50, figsize=(10, 10))\n",
    "plt.show()"
   ]
  },
  {
   "cell_type": "markdown",
   "metadata": {},
   "source": [
    "다른 Feature들에 비해, Subscription Length와 Voice Mail Usage의 꼬리가 아주 두껍습니다.\n",
    "\n",
    "이상치를 처리해 모양을 안정화해주면 좋을 것 같아, 저는 제거하거나 IQR Capping을 해주려고 합니다.\n",
    "\n",
    "추가적으로, train과 test의 히스토그램 분포가 완전히 동일해 보이는 것으로 보아,\n",
    "모든 feature들에 대해 계층적으로 샘플링된 것 같습니다."
   ]
  },
  {
   "cell_type": "markdown",
   "metadata": {},
   "source": [
    "# Boxplot을 활용해 이상치 처리하기\n",
    "IQR Capping을 위해 Boxplot으로 구체적인 데이터 구성을 살펴본 뒤, Upper/Lower Whisker 값을 추출해보았습니다."
   ]
  },
  {
   "cell_type": "code",
   "execution_count": 41,
   "metadata": {
    "scrolled": true
   },
   "outputs": [
    {
     "data": {
      "image/png": "[encoded data removed]",
      "text/plain": [
       "<Figure size 1152x288 with 2 Axes>"
      ]
     },
     "metadata": {
      "needs_background": "light"
     },
     "output_type": "display_data"
    },
    {
     "name": "stdout",
     "output_type": "stream",
     "text": [
      "[<matplotlib.lines.Line2D object at 0x000001CCF68E9D68>, <matplotlib.lines.Line2D object at 0x000001CCF68E9E48>]\n",
      "Whisker y-values for subplot 1:[-0.2  0.2]\n",
      "Whisker y-values for subplot 1:[-0.2  0.2]\n",
      "[<matplotlib.lines.Line2D object at 0x000001CCF67B5F60>, <matplotlib.lines.Line2D object at 0x000001CCF67B5A90>]\n",
      "Whisker y-values for subplot 2:[-0.2  0.2]\n",
      "Whisker y-values for subplot 2:[-0.2  0.2]\n"
     ]
    }
   ],
   "source": [
    "fig, ax = plt.subplots(1,2,figsize=(16, 4))\n",
    "sns.boxplot(train['가입일'], ax=ax[0])\n",
    "sns.boxplot(train['음성사서함이용'], ax=ax[1])\n",
    "plt.show()\n",
    "\n",
    "\n",
    "for i in range(len(ax)):\n",
    "    whiskers= ax[i].lines[2:4]\n",
    "#     print(\"whiskers : \".format(whiskers))\n",
    "    print(whiskers)\n",
    "    for whisker in whiskers:\n",
    "        y_data = whisker.get_ydata()\n",
    "        print(f\"Whisker y-values for subplot {i+1}:{y_data}\")"
   ]
  },
  {
   "cell_type": "code",
   "execution_count": null,
   "metadata": {},
   "outputs": [],
   "source": []
  },
  {
   "cell_type": "code",
   "execution_count": null,
   "metadata": {},
   "outputs": [],
   "source": []
  },
  {
   "cell_type": "code",
   "execution_count": null,
   "metadata": {},
   "outputs": [],
   "source": []
  },
  {
   "cell_type": "code",
   "execution_count": null,
   "metadata": {},
   "outputs": [],
   "source": []
  },
  {
   "cell_type": "markdown",
   "metadata": {},
   "source": [
    "# 독립변수(x_train), 종속변수(y_train)로 나누기  \n",
    "우리는 독립변수 데이터를 사용하여 종속변수를 예측하여야 합니다.  \n",
    "우리가 예측해야하는 종속변수는 '전화해지여부' 컬럼입니다.  \n",
    "따라서 종속변수를 y_train 변수에 할당하고 독립변수는 x_train 변수에 할당합니다.  \n",
    "\n",
    "ID는 모델이 종속변수를 예측할 때 도움이 되지 않으므로 해당 컬럼을 제거합니다."
   ]
  },
  {
   "cell_type": "code",
   "execution_count": 5,
   "metadata": {},
   "outputs": [],
   "source": [
    "# 예측에 도움이 될 수 없는 ID 컬럼을 제거합니다.\n",
    "# x_train은 독립변수이므로 종속변수를 제거합니다.\n",
    "x_train = train.drop(['ID', '전화해지여부'], axis = 1)\n",
    "\n",
    "# y_train은 종속변수의 값을 설정해줍니다.\n",
    "y_train = train['전화해지여부']\n",
    "\n",
    "# test 데이터에서 예측에 도움이 될 수 없는 ID 컬럼을 제거합니다.\n",
    "test = test.drop('ID', axis = 1)"
   ]
  },
  {
   "cell_type": "markdown",
   "metadata": {},
   "source": [
    "# 모델 정의  \n",
    "의사결정나무 모델을 사용하기 위해 모델을 정의합니다.  \n",
    "[의사결정나무 모델의 개념을 알고 싶다면 여기를 클릭해주세요.](https://dacon.io/competitions/open/235698/talkboard/403509?page=1&dtype=recent)"
   ]
  },
  {
   "cell_type": "code",
   "execution_count": 6,
   "metadata": {},
   "outputs": [],
   "source": [
    "# 모델 인자에 random_state를 넣음으로써 시드고정의 효과를 얻을 수 있습니다.\n",
    "model = DecisionTreeClassifier(random_state = 42)"
   ]
  },
  {
   "cell_type": "markdown",
   "metadata": {},
   "source": [
    "# 모델 학습\n",
    "위에서 설정한 독립변수와 종속변수를 모델에 입력하면 학습을 수행할 수 있습니다."
   ]
  },
  {
   "cell_type": "code",
   "execution_count": 7,
   "metadata": {},
   "outputs": [
    {
     "data": {
      "text/html": [
       "<style>#sk-container-id-1 {color: black;background-color: white;}#sk-container-id-1 pre{padding: 0;}#sk-container-id-1 div.sk-toggleable {background-color: white;}#sk-container-id-1 label.sk-toggleable__label {cursor: pointer;display: block;width: 100%;margin-bottom: 0;padding: 0.3em;box-sizing: border-box;text-align: center;}#sk-container-id-1 label.sk-toggleable__label-arrow:before {content: \"▸\";float: left;margin-right: 0.25em;color: #696969;}#sk-container-id-1 label.sk-toggleable__label-arrow:hover:before {color: black;}#sk-container-id-1 div.sk-estimator:hover label.sk-toggleable__label-arrow:before {color: black;}#sk-container-id-1 div.sk-toggleable__content {max-height: 0;max-width: 0;overflow: hidden;text-align: left;background-color: #f0f8ff;}#sk-container-id-1 div.sk-toggleable__content pre {margin: 0.2em;color: black;border-radius: 0.25em;background-color: #f0f8ff;}#sk-container-id-1 input.sk-toggleable__control:checked~div.sk-toggleable__content {max-height: 200px;max-width: 100%;overflow: auto;}#sk-container-id-1 input.sk-toggleable__control:checked~label.sk-toggleable__label-arrow:before {content: \"▾\";}#sk-container-id-1 div.sk-estimator input.sk-toggleable__control:checked~label.sk-toggleable__label {background-color: #d4ebff;}#sk-container-id-1 div.sk-label input.sk-toggleable__control:checked~label.sk-toggleable__label {background-color: #d4ebff;}#sk-container-id-1 input.sk-hidden--visually {border: 0;clip: rect(1px 1px 1px 1px);clip: rect(1px, 1px, 1px, 1px);height: 1px;margin: -1px;overflow: hidden;padding: 0;position: absolute;width: 1px;}#sk-container-id-1 div.sk-estimator {font-family: monospace;background-color: #f0f8ff;border: 1px dotted black;border-radius: 0.25em;box-sizing: border-box;margin-bottom: 0.5em;}#sk-container-id-1 div.sk-estimator:hover {background-color: #d4ebff;}#sk-container-id-1 div.sk-parallel-item::after {content: \"\";width: 100%;border-bottom: 1px solid gray;flex-grow: 1;}#sk-container-id-1 div.sk-label:hover label.sk-toggleable__label {background-color: #d4ebff;}#sk-container-id-1 div.sk-serial::before {content: \"\";position: absolute;border-left: 1px solid gray;box-sizing: border-box;top: 0;bottom: 0;left: 50%;z-index: 0;}#sk-container-id-1 div.sk-serial {display: flex;flex-direction: column;align-items: center;background-color: white;padding-right: 0.2em;padding-left: 0.2em;position: relative;}#sk-container-id-1 div.sk-item {position: relative;z-index: 1;}#sk-container-id-1 div.sk-parallel {display: flex;align-items: stretch;justify-content: center;background-color: white;position: relative;}#sk-container-id-1 div.sk-item::before, #sk-container-id-1 div.sk-parallel-item::before {content: \"\";position: absolute;border-left: 1px solid gray;box-sizing: border-box;top: 0;bottom: 0;left: 50%;z-index: -1;}#sk-container-id-1 div.sk-parallel-item {display: flex;flex-direction: column;z-index: 1;position: relative;background-color: white;}#sk-container-id-1 div.sk-parallel-item:first-child::after {align-self: flex-end;width: 50%;}#sk-container-id-1 div.sk-parallel-item:last-child::after {align-self: flex-start;width: 50%;}#sk-container-id-1 div.sk-parallel-item:only-child::after {width: 0;}#sk-container-id-1 div.sk-dashed-wrapped {border: 1px dashed gray;margin: 0 0.4em 0.5em 0.4em;box-sizing: border-box;padding-bottom: 0.4em;background-color: white;}#sk-container-id-1 div.sk-label label {font-family: monospace;font-weight: bold;display: inline-block;line-height: 1.2em;}#sk-container-id-1 div.sk-label-container {text-align: center;}#sk-container-id-1 div.sk-container {/* jupyter's `normalize.less` sets `[hidden] { display: none; }` but bootstrap.min.css set `[hidden] { display: none !important; }` so we also need the `!important` here to be able to override the default hidden behavior on the sphinx rendered scikit-learn.org. See: https://github.com/scikit-learn/scikit-learn/issues/21755 */display: inline-block !important;position: relative;}#sk-container-id-1 div.sk-text-repr-fallback {display: none;}</style><div id=\"sk-container-id-1\" class=\"sk-top-container\"><div class=\"sk-text-repr-fallback\"><pre>DecisionTreeClassifier(random_state=42)</pre><b>In a Jupyter environment, please rerun this cell to show the HTML representation or trust the notebook. <br />On GitHub, the HTML representation is unable to render, please try loading this page with nbviewer.org.</b></div><div class=\"sk-container\" hidden><div class=\"sk-item\"><div class=\"sk-estimator sk-toggleable\"><input class=\"sk-toggleable__control sk-hidden--visually\" id=\"sk-estimator-id-1\" type=\"checkbox\" checked><label for=\"sk-estimator-id-1\" class=\"sk-toggleable__label sk-toggleable__label-arrow\">DecisionTreeClassifier</label><div class=\"sk-toggleable__content\"><pre>DecisionTreeClassifier(random_state=42)</pre></div></div></div></div></div>"
      ],
      "text/plain": [
       "DecisionTreeClassifier(random_state=42)"
      ]
     },
     "execution_count": 7,
     "metadata": {},
     "output_type": "execute_result"
    }
   ],
   "source": [
    "# fit() 함수는 모델을 데이터에 맞추겠다는 의미를 가지고 있습니다.\n",
    "model.fit(x_train, y_train)"
   ]
  },
  {
   "cell_type": "markdown",
   "metadata": {},
   "source": [
    "# 예측\n",
    "학습을 완료한 모델에 테스트 데이터를 입력하면 예측값을 얻을 수 있습니다."
   ]
  },
  {
   "cell_type": "code",
   "execution_count": 8,
   "metadata": {},
   "outputs": [],
   "source": [
    "# predict() 함수는 독립변수(테스트데이터)를 입력받았을 때 종속변수를 예측합니다.\n",
    "pred = model.predict(test)"
   ]
  },
  {
   "cell_type": "markdown",
   "metadata": {},
   "source": [
    "#  파일 저장\n",
    "예측 결과를 제출하기 위해서 예측값을 제출 파일에 할당하고 저장합니다."
   ]
  },
  {
   "cell_type": "code",
   "execution_count": 9,
   "metadata": {},
   "outputs": [],
   "source": [
    "# 제출 파일을 불러옵니다.\n",
    "submit = pd.read_csv('./sample_submission.csv')"
   ]
  },
  {
   "cell_type": "code",
   "execution_count": 10,
   "metadata": {},
   "outputs": [
    {
     "data": {
      "text/html": [
       "<div>\n",
       "<style scoped>\n",
       "    .dataframe tbody tr th:only-of-type {\n",
       "        vertical-align: middle;\n",
       "    }\n",
       "\n",
       "    .dataframe tbody tr th {\n",
       "        vertical-align: top;\n",
       "    }\n",
       "\n",
       "    .dataframe thead th {\n",
       "        text-align: right;\n",
       "    }\n",
       "</style>\n",
       "<table border=\"1\" class=\"dataframe\">\n",
       "  <thead>\n",
       "    <tr style=\"text-align: right;\">\n",
       "      <th></th>\n",
       "      <th>ID</th>\n",
       "      <th>전화해지여부</th>\n",
       "    </tr>\n",
       "  </thead>\n",
       "  <tbody>\n",
       "    <tr>\n",
       "      <th>0</th>\n",
       "      <td>TEST_00000</td>\n",
       "      <td>0</td>\n",
       "    </tr>\n",
       "    <tr>\n",
       "      <th>1</th>\n",
       "      <td>TEST_00001</td>\n",
       "      <td>0</td>\n",
       "    </tr>\n",
       "    <tr>\n",
       "      <th>2</th>\n",
       "      <td>TEST_00002</td>\n",
       "      <td>0</td>\n",
       "    </tr>\n",
       "    <tr>\n",
       "      <th>3</th>\n",
       "      <td>TEST_00003</td>\n",
       "      <td>0</td>\n",
       "    </tr>\n",
       "    <tr>\n",
       "      <th>4</th>\n",
       "      <td>TEST_00004</td>\n",
       "      <td>1</td>\n",
       "    </tr>\n",
       "  </tbody>\n",
       "</table>\n",
       "</div>"
      ],
      "text/plain": [
       "           ID  전화해지여부\n",
       "0  TEST_00000       0\n",
       "1  TEST_00001       0\n",
       "2  TEST_00002       0\n",
       "3  TEST_00003       0\n",
       "4  TEST_00004       1"
      ]
     },
     "execution_count": 10,
     "metadata": {},
     "output_type": "execute_result"
    }
   ],
   "source": [
    "# 예측한 값을 '전화해지여부' 컬럼에 할당합니다.\n",
    "submit['전화해지여부'] = pred\n",
    "submit.head()"
   ]
  },
  {
   "cell_type": "code",
   "execution_count": 11,
   "metadata": {},
   "outputs": [],
   "source": [
    "# 예측한 파일을 저장합니다.\n",
    "submit.to_csv('./submit.csv', index = False)"
   ]
  }
 ],
 "metadata": {
  "kernelspec": {
   "display_name": "Python 3",
   "language": "python",
   "name": "python3"
  },
  "language_info": {
   "codemirror_mode": {
    "name": "ipython",
    "version": 3
   },
   "file_extension": ".py",
   "mimetype": "text/x-python",
   "name": "python",
   "nbconvert_exporter": "python",
   "pygments_lexer": "ipython3",
   "version": "3.7.3"
  }
 },
 "nbformat": 4,
 "nbformat_minor": 5
}
